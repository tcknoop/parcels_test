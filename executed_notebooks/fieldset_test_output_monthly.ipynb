{
 "cells": [
  {
   "cell_type": "code",
   "execution_count": 1,
   "id": "73d2b0b9-2c0d-4dd1-a0ce-ed42766c40ea",
   "metadata": {
    "execution": {
     "iopub.execute_input": "2022-09-05T10:05:56.908749Z",
     "iopub.status.busy": "2022-09-05T10:05:56.908302Z",
     "iopub.status.idle": "2022-09-05T10:06:00.558067Z",
     "shell.execute_reply": "2022-09-05T10:06:00.558740Z"
    },
    "papermill": {
     "duration": 3.664136,
     "end_time": "2022-09-05T10:06:00.558971",
     "exception": false,
     "start_time": "2022-09-05T10:05:56.894835",
     "status": "completed"
    },
    "tags": []
   },
   "outputs": [
    {
     "name": "stderr",
     "output_type": "stream",
     "text": [
      "INFO: Compiled ParcelsRandom ==> /tmp/parcels-729666/libparcels_random_a861632e-28d8-4040-a245-a13574f3f39c.so\n"
     ]
    }
   ],
   "source": [
    "from parcels import FieldSet\n",
    "from glob import glob\n",
    "import xarray as xr"
   ]
  },
  {
   "cell_type": "code",
   "execution_count": 2,
   "id": "13dc51d3-46e4-4b15-8a83-cb125dde5843",
   "metadata": {
    "execution": {
     "iopub.execute_input": "2022-09-05T10:06:00.572964Z",
     "iopub.status.busy": "2022-09-05T10:06:00.572175Z",
     "iopub.status.idle": "2022-09-05T10:06:00.575282Z",
     "shell.execute_reply": "2022-09-05T10:06:00.575788Z"
    },
    "papermill": {
     "duration": 0.010822,
     "end_time": "2022-09-05T10:06:00.575902",
     "exception": false,
     "start_time": "2022-09-05T10:06:00.565080",
     "status": "completed"
    },
    "tags": []
   },
   "outputs": [],
   "source": [
    "#local\n",
    "#path = \"/home/tknoop/gits/parcels_test/data/fullcop_data/MetO-NWS-PHY-hi-CUR/2019/01/*.nc\"\n",
    "#nesh\n",
    "#path =  \"/gxfs_work1/geomar/smomw529/2022_north-sea_oysters/data/ocean/MetO-NWS-PHY-hi-CUR/2019/01/*.nc\"\n",
    "\n",
    "#open via xarray\n",
    "#ds = xr.open_mfdataset(path)\n",
    "#ds"
   ]
  },
  {
   "cell_type": "code",
   "execution_count": 3,
   "id": "5009096e-6061-467b-9f41-90dacc22207d",
   "metadata": {
    "execution": {
     "iopub.execute_input": "2022-09-05T10:06:00.589601Z",
     "iopub.status.busy": "2022-09-05T10:06:00.588337Z",
     "iopub.status.idle": "2022-09-05T10:06:00.590313Z",
     "shell.execute_reply": "2022-09-05T10:06:00.589965Z"
    },
    "papermill": {
     "duration": 0.009325,
     "end_time": "2022-09-05T10:06:00.590396",
     "exception": false,
     "start_time": "2022-09-05T10:06:00.581071",
     "status": "completed"
    },
    "tags": []
   },
   "outputs": [],
   "source": [
    "#select only down to 100m water depth\n",
    "#ds.isel(depth=slice(0, 13))"
   ]
  },
  {
   "cell_type": "code",
   "execution_count": 4,
   "id": "e4dc1482-233a-4859-958a-d2bd32486131",
   "metadata": {
    "execution": {
     "iopub.execute_input": "2022-09-05T10:06:00.605137Z",
     "iopub.status.busy": "2022-09-05T10:06:00.603911Z",
     "iopub.status.idle": "2022-09-05T10:06:00.605862Z",
     "shell.execute_reply": "2022-09-05T10:06:00.605521Z"
    },
    "papermill": {
     "duration": 0.010225,
     "end_time": "2022-09-05T10:06:00.605944",
     "exception": false,
     "start_time": "2022-09-05T10:06:00.595719",
     "status": "completed"
    },
    "tags": []
   },
   "outputs": [],
   "source": [
    "variables = {'U': 'uo',\n",
    "             'V': 'vo'}\n",
    "dimensions = {'lat': 'lat',\n",
    "              'lon': 'lon',\n",
    "              'time': 'time',\n",
    "              'depth' : 'depth'\n",
    "              }\n",
    "#only load data down to 100m\n",
    "indices =  {'depth' : range(0,13)}\n",
    "\n",
    "#generate fieldset from xarray\n",
    "#fieldset = FieldSet.from_xarray_dataset(ds.isel(depth=slice(0, 13)),variables,dimensions)\n",
    "#del ds\n",
    "#fieldset.get_fields()"
   ]
  },
  {
   "cell_type": "code",
   "execution_count": 5,
   "id": "8360b01e-faf8-4d6e-9570-617bf2fd4dbc",
   "metadata": {
    "execution": {
     "iopub.execute_input": "2022-09-05T10:06:00.620336Z",
     "iopub.status.busy": "2022-09-05T10:06:00.619109Z",
     "iopub.status.idle": "2022-09-05T10:06:00.621048Z",
     "shell.execute_reply": "2022-09-05T10:06:00.620726Z"
    },
    "papermill": {
     "duration": 0.009718,
     "end_time": "2022-09-05T10:06:00.621127",
     "exception": false,
     "start_time": "2022-09-05T10:06:00.611409",
     "status": "completed"
    },
    "tags": []
   },
   "outputs": [],
   "source": [
    "#fieldset.V.show(depth_level=3)"
   ]
  },
  {
   "cell_type": "code",
   "execution_count": 6,
   "id": "8ea4fd50-1229-42d4-aa20-a5be41245f96",
   "metadata": {
    "execution": {
     "iopub.execute_input": "2022-09-05T10:06:00.636085Z",
     "iopub.status.busy": "2022-09-05T10:06:00.635590Z",
     "iopub.status.idle": "2022-09-05T10:06:00.636806Z",
     "shell.execute_reply": "2022-09-05T10:06:00.636457Z"
    },
    "papermill": {
     "duration": 0.010324,
     "end_time": "2022-09-05T10:06:00.636885",
     "exception": false,
     "start_time": "2022-09-05T10:06:00.626561",
     "status": "completed"
    },
    "tags": []
   },
   "outputs": [],
   "source": [
    "#generate fieldset directly from files via parcels \n",
    "import os\n",
    "\n",
    "\n",
    "def test_fieldset(year,month):\n",
    "    \n",
    "    path =  f\"/gxfs_work1/geomar/smomw529/2022_north-sea_oysters/data/ocean/MetO-NWS-PHY-hi-CUR/{year}/{month}/*.nc\"\n",
    "#    file_list = glob(path) #get list of filenames in specified month_directory\n",
    "#sort by the last 8 digits (start date)\n",
    "#file_list = sorted(file_list, key=lambda i: int(os.path.splitext(os.path.basename(i))[0][-8:]))\n",
    "#    file_list = sorted(file_list)\n",
    "\n",
    "\n",
    "#    testfield = FieldSet.from_netcdf(file_list, variables, dimensions, indices = indices)\n",
    "#    testfield.V.show(depth_level=3)\n",
    "    print(path)\n",
    "    return"
   ]
  },
  {
   "cell_type": "code",
   "execution_count": null,
   "id": "5172dbc1-af31-4888-8d32-b780620e9853",
   "metadata": {
    "papermill": {
     "duration": 0.005385,
     "end_time": "2022-09-05T10:06:00.647610",
     "exception": false,
     "start_time": "2022-09-05T10:06:00.642225",
     "status": "completed"
    },
    "tags": []
   },
   "outputs": [],
   "source": []
  },
  {
   "cell_type": "code",
   "execution_count": 7,
   "id": "77e85045-7312-4a8d-bb43-2b69b52f51a9",
   "metadata": {
    "execution": {
     "iopub.execute_input": "2022-09-05T10:06:00.661880Z",
     "iopub.status.busy": "2022-09-05T10:06:00.660670Z",
     "iopub.status.idle": "2022-09-05T10:06:00.662599Z",
     "shell.execute_reply": "2022-09-05T10:06:00.662254Z"
    },
    "papermill": {
     "duration": 0.009631,
     "end_time": "2022-09-05T10:06:00.662681",
     "exception": false,
     "start_time": "2022-09-05T10:06:00.653050",
     "status": "completed"
    },
    "tags": []
   },
   "outputs": [],
   "source": [
    "#testfield.V.show(depth_level=12)"
   ]
  },
  {
   "cell_type": "code",
   "execution_count": 8,
   "id": "fc815434-e1d3-43a5-abbd-07804f9bb6bb",
   "metadata": {
    "execution": {
     "iopub.execute_input": "2022-09-05T10:06:00.680491Z",
     "iopub.status.busy": "2022-09-05T10:06:00.679245Z",
     "iopub.status.idle": "2022-09-05T10:06:00.681792Z",
     "shell.execute_reply": "2022-09-05T10:06:00.680875Z"
    },
    "papermill": {
     "duration": 0.013474,
     "end_time": "2022-09-05T10:06:00.681876",
     "exception": false,
     "start_time": "2022-09-05T10:06:00.668402",
     "status": "completed"
    },
    "tags": []
   },
   "outputs": [
    {
     "name": "stdout",
     "output_type": "stream",
     "text": [
      "/gxfs_work1/geomar/smomw529/2022_north-sea_oysters/data/ocean/MetO-NWS-PHY-hi-CUR/2019/01/*.nc\n",
      "/gxfs_work1/geomar/smomw529/2022_north-sea_oysters/data/ocean/MetO-NWS-PHY-hi-CUR/2019/02/*.nc\n",
      "/gxfs_work1/geomar/smomw529/2022_north-sea_oysters/data/ocean/MetO-NWS-PHY-hi-CUR/2019/03/*.nc\n",
      "/gxfs_work1/geomar/smomw529/2022_north-sea_oysters/data/ocean/MetO-NWS-PHY-hi-CUR/2019/04/*.nc\n",
      "/gxfs_work1/geomar/smomw529/2022_north-sea_oysters/data/ocean/MetO-NWS-PHY-hi-CUR/2019/05/*.nc\n",
      "/gxfs_work1/geomar/smomw529/2022_north-sea_oysters/data/ocean/MetO-NWS-PHY-hi-CUR/2019/06/*.nc\n",
      "/gxfs_work1/geomar/smomw529/2022_north-sea_oysters/data/ocean/MetO-NWS-PHY-hi-CUR/2019/07/*.nc\n",
      "/gxfs_work1/geomar/smomw529/2022_north-sea_oysters/data/ocean/MetO-NWS-PHY-hi-CUR/2019/08/*.nc\n",
      "/gxfs_work1/geomar/smomw529/2022_north-sea_oysters/data/ocean/MetO-NWS-PHY-hi-CUR/2019/09/*.nc\n",
      "/gxfs_work1/geomar/smomw529/2022_north-sea_oysters/data/ocean/MetO-NWS-PHY-hi-CUR/2019/10/*.nc\n",
      "/gxfs_work1/geomar/smomw529/2022_north-sea_oysters/data/ocean/MetO-NWS-PHY-hi-CUR/2019/11/*.nc\n",
      "/gxfs_work1/geomar/smomw529/2022_north-sea_oysters/data/ocean/MetO-NWS-PHY-hi-CUR/2019/12/*.nc\n",
      "/gxfs_work1/geomar/smomw529/2022_north-sea_oysters/data/ocean/MetO-NWS-PHY-hi-CUR/2020/01/*.nc\n",
      "/gxfs_work1/geomar/smomw529/2022_north-sea_oysters/data/ocean/MetO-NWS-PHY-hi-CUR/2020/02/*.nc\n",
      "/gxfs_work1/geomar/smomw529/2022_north-sea_oysters/data/ocean/MetO-NWS-PHY-hi-CUR/2020/03/*.nc\n",
      "/gxfs_work1/geomar/smomw529/2022_north-sea_oysters/data/ocean/MetO-NWS-PHY-hi-CUR/2020/04/*.nc\n",
      "/gxfs_work1/geomar/smomw529/2022_north-sea_oysters/data/ocean/MetO-NWS-PHY-hi-CUR/2020/05/*.nc\n",
      "/gxfs_work1/geomar/smomw529/2022_north-sea_oysters/data/ocean/MetO-NWS-PHY-hi-CUR/2020/06/*.nc\n",
      "/gxfs_work1/geomar/smomw529/2022_north-sea_oysters/data/ocean/MetO-NWS-PHY-hi-CUR/2020/07/*.nc\n",
      "/gxfs_work1/geomar/smomw529/2022_north-sea_oysters/data/ocean/MetO-NWS-PHY-hi-CUR/2020/08/*.nc\n",
      "/gxfs_work1/geomar/smomw529/2022_north-sea_oysters/data/ocean/MetO-NWS-PHY-hi-CUR/2020/09/*.nc\n",
      "/gxfs_work1/geomar/smomw529/2022_north-sea_oysters/data/ocean/MetO-NWS-PHY-hi-CUR/2020/10/*.nc\n",
      "/gxfs_work1/geomar/smomw529/2022_north-sea_oysters/data/ocean/MetO-NWS-PHY-hi-CUR/2020/11/*.nc\n",
      "/gxfs_work1/geomar/smomw529/2022_north-sea_oysters/data/ocean/MetO-NWS-PHY-hi-CUR/2020/12/*.nc\n",
      "/gxfs_work1/geomar/smomw529/2022_north-sea_oysters/data/ocean/MetO-NWS-PHY-hi-CUR/2021/01/*.nc\n",
      "/gxfs_work1/geomar/smomw529/2022_north-sea_oysters/data/ocean/MetO-NWS-PHY-hi-CUR/2021/02/*.nc\n",
      "/gxfs_work1/geomar/smomw529/2022_north-sea_oysters/data/ocean/MetO-NWS-PHY-hi-CUR/2021/03/*.nc\n",
      "/gxfs_work1/geomar/smomw529/2022_north-sea_oysters/data/ocean/MetO-NWS-PHY-hi-CUR/2021/04/*.nc\n",
      "/gxfs_work1/geomar/smomw529/2022_north-sea_oysters/data/ocean/MetO-NWS-PHY-hi-CUR/2021/05/*.nc\n",
      "/gxfs_work1/geomar/smomw529/2022_north-sea_oysters/data/ocean/MetO-NWS-PHY-hi-CUR/2021/06/*.nc\n",
      "/gxfs_work1/geomar/smomw529/2022_north-sea_oysters/data/ocean/MetO-NWS-PHY-hi-CUR/2021/07/*.nc\n",
      "/gxfs_work1/geomar/smomw529/2022_north-sea_oysters/data/ocean/MetO-NWS-PHY-hi-CUR/2021/08/*.nc\n",
      "/gxfs_work1/geomar/smomw529/2022_north-sea_oysters/data/ocean/MetO-NWS-PHY-hi-CUR/2021/09/*.nc\n",
      "/gxfs_work1/geomar/smomw529/2022_north-sea_oysters/data/ocean/MetO-NWS-PHY-hi-CUR/2021/10/*.nc\n",
      "/gxfs_work1/geomar/smomw529/2022_north-sea_oysters/data/ocean/MetO-NWS-PHY-hi-CUR/2021/11/*.nc\n",
      "/gxfs_work1/geomar/smomw529/2022_north-sea_oysters/data/ocean/MetO-NWS-PHY-hi-CUR/2021/12/*.nc\n",
      "/gxfs_work1/geomar/smomw529/2022_north-sea_oysters/data/ocean/MetO-NWS-PHY-hi-CUR/2022/01/*.nc\n",
      "/gxfs_work1/geomar/smomw529/2022_north-sea_oysters/data/ocean/MetO-NWS-PHY-hi-CUR/2022/02/*.nc\n",
      "/gxfs_work1/geomar/smomw529/2022_north-sea_oysters/data/ocean/MetO-NWS-PHY-hi-CUR/2022/03/*.nc\n",
      "/gxfs_work1/geomar/smomw529/2022_north-sea_oysters/data/ocean/MetO-NWS-PHY-hi-CUR/2022/04/*.nc\n",
      "/gxfs_work1/geomar/smomw529/2022_north-sea_oysters/data/ocean/MetO-NWS-PHY-hi-CUR/2022/05/*.nc\n",
      "/gxfs_work1/geomar/smomw529/2022_north-sea_oysters/data/ocean/MetO-NWS-PHY-hi-CUR/2022/06/*.nc\n",
      "/gxfs_work1/geomar/smomw529/2022_north-sea_oysters/data/ocean/MetO-NWS-PHY-hi-CUR/2022/07/*.nc\n",
      "/gxfs_work1/geomar/smomw529/2022_north-sea_oysters/data/ocean/MetO-NWS-PHY-hi-CUR/2022/08/*.nc\n",
      "/gxfs_work1/geomar/smomw529/2022_north-sea_oysters/data/ocean/MetO-NWS-PHY-hi-CUR/2022/09/*.nc\n",
      "/gxfs_work1/geomar/smomw529/2022_north-sea_oysters/data/ocean/MetO-NWS-PHY-hi-CUR/2022/10/*.nc\n",
      "/gxfs_work1/geomar/smomw529/2022_north-sea_oysters/data/ocean/MetO-NWS-PHY-hi-CUR/2022/11/*.nc\n",
      "/gxfs_work1/geomar/smomw529/2022_north-sea_oysters/data/ocean/MetO-NWS-PHY-hi-CUR/2022/12/*.nc\n"
     ]
    }
   ],
   "source": [
    "for y in [2019,2020,2021,2022]:\n",
    "    for m in range(12):\n",
    "        month = str(m+1)\n",
    "        if m<=8:\n",
    "            month = '0'+str(m+1)\n",
    "        \n",
    "        test_fieldset(y,month)"
   ]
  },
  {
   "cell_type": "code",
   "execution_count": null,
   "id": "94da7de7-de82-4fe5-9510-8312ed610732",
   "metadata": {
    "papermill": {
     "duration": 0.005894,
     "end_time": "2022-09-05T10:06:00.693739",
     "exception": false,
     "start_time": "2022-09-05T10:06:00.687845",
     "status": "completed"
    },
    "tags": []
   },
   "outputs": [],
   "source": []
  },
  {
   "cell_type": "code",
   "execution_count": null,
   "id": "0d250d69-3e0f-48a0-af08-28642ce0feee",
   "metadata": {
    "papermill": {
     "duration": 0.00583,
     "end_time": "2022-09-05T10:06:00.705485",
     "exception": false,
     "start_time": "2022-09-05T10:06:00.699655",
     "status": "completed"
    },
    "tags": []
   },
   "outputs": [],
   "source": []
  }
 ],
 "metadata": {
  "kernelspec": {
   "display_name": "Python 3 (ipykernel)",
   "language": "python",
   "name": "python3"
  },
  "language_info": {
   "codemirror_mode": {
    "name": "ipython",
    "version": 3
   },
   "file_extension": ".py",
   "mimetype": "text/x-python",
   "name": "python",
   "nbconvert_exporter": "python",
   "pygments_lexer": "ipython3",
   "version": "3.8.10"
  },
  "papermill": {
   "default_parameters": {},
   "duration": 5.935444,
   "end_time": "2022-09-05T10:06:01.132279",
   "environment_variables": {},
   "exception": null,
   "input_path": "notebooks/fieldset_test.ipynb",
   "output_path": "executed_notebooks/fieldset_test_output_monthly.ipynb",
   "parameters": {},
   "start_time": "2022-09-05T10:05:55.196835",
   "version": "2.3.3"
  }
 },
 "nbformat": 4,
 "nbformat_minor": 5
}